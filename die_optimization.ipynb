{
 "cells": [
  {
   "cell_type": "markdown",
   "id": "3b94248a-2a3d-43e2-879b-b790a0f56c30",
   "metadata": {},
   "source": [
    "# Wafer-Die Optimization\n",
    "\n",
    "The goal of this notebook is to find the optimal number of dies that can be placed on a specific wafer. The user has control over a few different parameters.\n",
    "\n",
    "### Input parameters: \n",
    "- Wafer size (diameter)\n",
    "- Wafer Edge Exclusion (WEE)\n",
    "- Dicing Lane Spacing\n",
    "- Die size (length, width)\n",
    "\n",
    "### Output Values:\n",
    "- Die count\n",
    "- Wafer Utilization\n",
    "- Optimal X-offset\n",
    "- Optimal Y-offset\n",
    "- X & Y Layout (Odd/Even)\n",
    "- Diagram of Wafer\n",
    "\n",
    "### Kernel installation\n",
    "- Use python 3.10.x\n",
    "- Select \"create a Python virtual environment\" (Visual Studio Code)\n",
    "- If you are versed in Conda, then use that, otherwise select **venv**\n",
    "\n",
    "### Running in Jupyter\n",
    "- For conda, first use `conda install ipykernel -c conda forge`\n",
    "- Then use `python -m ipykernel install --user --name=wafer`\n",
    "- Restart Jupyter Notebook and your kernel should show up\n",
    "\n",
    "### How to Use this Notebook **IMPORTANT!!!!**\n",
    "- Run each cell in order\n",
    "- **ONLY** input parameters in Section 2\n",
    "- No other code needs to be changed\n",
    "- Once cell 1 has been run once, there is no need to run it again (ONLY run the imports when restarting kernel)"
   ]
  },
  {
   "cell_type": "markdown",
   "id": "6f015be5-8265-467d-835b-2bbc8dbb9a53",
   "metadata": {},
   "source": [
    "## 1. Installs and Imports"
   ]
  },
  {
   "cell_type": "code",
   "execution_count": null,
   "id": "901c14da-9cdf-4a75-bf61-d5a0af7c8623",
   "metadata": {},
   "outputs": [],
   "source": [
    "pip install shapely matplotlib pandas"
   ]
  },
  {
   "cell_type": "code",
   "execution_count": 1,
   "id": "5267fabe-6e44-4093-8d8a-68c66b62e684",
   "metadata": {},
   "outputs": [],
   "source": [
    "import numpy as np\n",
    "import pandas as pd\n",
    "import math\n",
    "from datetime import datetime\n",
    "from collections import defaultdict\n",
    "\n",
    "# plotting libraries\n",
    "import matplotlib.pyplot as plt\n",
    "import matplotlib.patches as mpatch\n",
    "from shapely.geometry import Point, box"
   ]
  },
  {
   "cell_type": "markdown",
   "id": "9f98eca9-65e1-44fb-a854-3bc7152e6c1c",
   "metadata": {},
   "source": [
    "## 2. Input Parameters:\n",
    "Change variables below\n",
    "\n",
    "For test positions:\n",
    "1 corner looks like `test_positions = ['xx']` \n",
    "2 corners like: `test_position = ['xx', 'yy']` xx and yy are just placeholders, the possible values are written under. Works for as many dies in a scan.\n",
    "\n",
    "Resolution is for how in-depth the search should be. The lower the number the more it'll check offsets. But be warned that lowering the number will result in longer run-times\n"
   ]
  },
  {
   "cell_type": "code",
   "execution_count": 8,
   "id": "1ba11b50-96f4-4b96-bf50-7487f70e3ebb",
   "metadata": {},
   "outputs": [],
   "source": [
    "# Project Name\n",
    "project_name = \"ruby\"\n",
    "\n",
    "# wafer\n",
    "wafer_diameter = 200 # mm\n",
    "wee = 3             # mm\n",
    "\n",
    "# die\n",
    "die_w = 10           # mm, die width\n",
    "die_h = 12           # mm, die height\n",
    "trench = 0.1         # mm, dicing lane\n",
    "\n",
    "# scan configuration\n",
    "dies_per_scan = 4     # number of dies in each scan\n",
    "scan_cols = 2\n",
    "scan_rows = 2\n",
    "\n",
    "assert scan_cols * scan_rows == dies_per_scan, \"scan_cols*scan_rows must equal dies_per_scan\"\n",
    "\n",
    "# list of (li, lj) positions within each scan block where you place test dies\n",
    "# e.g. [(0,0)] for bottom-left, [(0, scan_rows-1)] for top-left, or multiple\n",
    "test_positions = [(0, scan_rows-1)]\n",
    "\n",
    "\n",
    "# grid search resolution\n",
    "res_x = 1\n",
    "res_y = 1"
   ]
  },
  {
   "cell_type": "markdown",
   "id": "3e6ff264-d882-4ccf-a641-dcd4e194689e",
   "metadata": {},
   "source": [
    "## 3. Transformed Quantities\n",
    "Do not change any of the code in any cells from here"
   ]
  },
  {
   "cell_type": "code",
   "execution_count": 3,
   "id": "11976d76-996c-4c12-a9de-933561efad10",
   "metadata": {},
   "outputs": [],
   "source": [
    "# true radii\n",
    "full_radius   = wafer_diameter / 2.0       # physical wafer edge\n",
    "usable_radius = full_radius - wee          # inside this all dies must fit\n",
    "wafer = Point(0,0).buffer(usable_radius)\n",
    "\n",
    "# effective die size\n",
    "eff_die_w = die_w + trench\n",
    "eff_die_h = die_h + trench\n",
    "\n",
    "# grid spacing\n",
    "step_x = eff_die_w\n",
    "step_y = eff_die_h"
   ]
  },
  {
   "cell_type": "markdown",
   "id": "0430e01d-3b5a-478a-95f4-dcbf035ec82e",
   "metadata": {},
   "source": [
    "## 4. Grid Generation and Filtering"
   ]
  },
  {
   "cell_type": "code",
   "execution_count": 4,
   "id": "3b3587a5-ecee-48cf-949f-c5a5a6657126",
   "metadata": {},
   "outputs": [],
   "source": [
    "def generate_dies(offset_x, offset_y):\n",
    "    \"\"\"\n",
    "    Returns a list of dicts for dies fully inside wafer:\n",
    "      - x,y      : center coords\n",
    "      - i,j      : global grid indices\n",
    "      - orient_x,y: 'even'/'odd' based on i,j\n",
    "    \"\"\"\n",
    "    xs = np.arange(-usable_radius + eff_die_w/2 + offset_x,\n",
    "                   usable_radius,\n",
    "                   step_x)\n",
    "    ys = np.arange(-usable_radius + eff_die_h/2 + offset_y,\n",
    "                   usable_radius,\n",
    "                   step_y)\n",
    "    dies = []\n",
    "    for i, x in enumerate(xs):\n",
    "        for j, y in enumerate(ys):\n",
    "            rect = box(x - eff_die_w/2, y - eff_die_h/2,\n",
    "                       x + eff_die_w/2, y + eff_die_h/2)\n",
    "            if wafer.contains(rect):\n",
    "                dies.append({\n",
    "                    'x': x, 'y': y,\n",
    "                    'i': i, 'j': j,\n",
    "                    'orient_x': 'odd'  if i % 2 else 'even',\n",
    "                    'orient_y': 'odd'  if j % 2 else 'even'\n",
    "                })\n",
    "    return dies"
   ]
  },
  {
   "cell_type": "markdown",
   "id": "e3e145d1-f0ef-4518-a111-bbad0256835d",
   "metadata": {},
   "source": [
    "## 5. Optimized Search"
   ]
  },
  {
   "cell_type": "code",
   "execution_count": 5,
   "id": "f62272b3-2da5-4cc5-9d4d-3641c21c1d3f",
   "metadata": {},
   "outputs": [
    {
     "name": "stdout",
     "output_type": "stream",
     "text": [
      "Best offsets → X=6.000 mm, Y=3.000 mm\n",
      "Total die positions on wafer: 211\n"
     ]
    }
   ],
   "source": [
    "best_count = -1\n",
    "best_off   = (0.0, 0.0)\n",
    "best_dies  = None\n",
    "\n",
    "oxs = np.arange(0, step_x, res_x)\n",
    "oys = np.arange(0, step_y, res_y)\n",
    "\n",
    "for ox in oxs:\n",
    "    for oy in oys:\n",
    "        current = generate_dies(ox, oy)\n",
    "        cnt = len(current)\n",
    "        if cnt > best_count:\n",
    "            best_count = cnt\n",
    "            best_off   = (ox, oy)\n",
    "            best_dies  = current\n",
    "\n",
    "# freeze the winners\n",
    "best_x, best_y = best_off\n",
    "dies           = best_dies\n",
    "total_positions = best_count\n",
    "\n",
    "# now print from the SAME list\n",
    "print(f\"Best offsets → X={best_x:.3f} mm, Y={best_y:.3f} mm\")\n",
    "print(f\"Total die positions on wafer: {total_positions}\")"
   ]
  },
  {
   "cell_type": "code",
   "execution_count": 6,
   "id": "8060d800-c604-4a03-aded-0a477feb9697",
   "metadata": {},
   "outputs": [
    {
     "name": "stdout",
     "output_type": "stream",
     "text": [
      "Scan Column Orientation: 9 (odd)\n",
      "Scan Row Orientation: 8 (even)\n"
     ]
    }
   ],
   "source": [
    "# collect unique grid indices among the final dies\n",
    "unique_i = sorted({ d['i'] for d in dies })\n",
    "unique_j = sorted({ d['j'] for d in dies })\n",
    "\n",
    "num_cols = len(unique_i)\n",
    "num_rows = len(unique_j)\n",
    "\n",
    "scan_num_cols = math.ceil(num_cols / scan_cols)\n",
    "scan_num_rows = math.ceil(num_rows / scan_rows)\n",
    "\n",
    "orientation_cols = 'even' if scan_num_cols % 2 == 0 else 'odd'\n",
    "orientation_rows = 'even' if scan_num_rows % 2 == 0 else 'odd'\n",
    "\n",
    "print(f\"Scan Column Orientation: {scan_num_cols} ({orientation_cols})\")\n",
    "print(f\"Scan Row Orientation: {scan_num_rows} ({orientation_rows})\")"
   ]
  },
  {
   "cell_type": "markdown",
   "id": "6294b5bd-c548-4ba6-9079-19d9c712e8ed",
   "metadata": {},
   "source": [
    "## 6. Deliverable Cells"
   ]
  },
  {
   "cell_type": "code",
   "execution_count": 9,
   "id": "fbea2284-423f-4418-a0fa-bf1feddabc0d",
   "metadata": {},
   "outputs": [
    {
     "name": "stdout",
     "output_type": "stream",
     "text": [
      "Test dies reserved: 52\n",
      "Edge dies: 21\n",
      "Inside dies: 190\n"
     ]
    }
   ],
   "source": [
    "# clear any old flags\n",
    "for d in dies:\n",
    "    for key in ('is_test','sx','sy','li','lj'):\n",
    "        d.pop(key, None)\n",
    "\n",
    "# compute block & local indices\n",
    "for d in dies:\n",
    "    d['sx'] = d['i'] // scan_cols\n",
    "    d['sy'] = d['j'] // scan_rows\n",
    "    d['li'] = d['i'] % scan_cols\n",
    "    d['lj'] = d['j'] % scan_rows\n",
    "\n",
    "# bucket dies into scan blocks\n",
    "scans = defaultdict(list)\n",
    "for d in dies:\n",
    "    scans[(d['sx'], d['sy'])].append(d)\n",
    "\n",
    "# tag test-dies by explicit test_positions\n",
    "test_die_count = 0\n",
    "for group in scans.values():\n",
    "    for (li, lj) in test_positions:\n",
    "        for die in group:\n",
    "            if die['li']==li and die['lj']==lj:\n",
    "                if not die.get('is_test', False):\n",
    "                    die['is_test'] = True\n",
    "                    test_die_count += 1\n",
    "                break\n",
    "\n",
    "# count edge vs inside dies\n",
    "unique_i = sorted({d['i'] for d in dies})\n",
    "unique_j = sorted({d['j'] for d in dies})\n",
    "min_i, max_i = unique_i[0], unique_i[-1]\n",
    "min_j, max_j = unique_j[0], unique_j[-1]\n",
    "\n",
    "edge_dies   = sum(1 for d in dies if d['i'] in (min_i,max_i) or d['j'] in (min_j,max_j))\n",
    "inside_dies = total_positions - edge_dies\n",
    "\n",
    "print(f\"Test dies reserved: {test_die_count}\")\n",
    "print(f\"Edge dies: {edge_dies}\")\n",
    "print(f\"Inside dies: {inside_dies}\")"
   ]
  },
  {
   "cell_type": "code",
   "execution_count": 10,
   "id": "7c699623-abba-4dc9-8dc4-0d1ef18944ee",
   "metadata": {},
   "outputs": [
    {
     "name": "stdout",
     "output_type": "stream",
     "text": [
      "Total positions:  211\n",
      "Deliverable dies: 159\n",
      "Utilization:      65.7%\n"
     ]
    }
   ],
   "source": [
    "deliverable = total_positions - test_die_count\n",
    "utilization = deliverable * (eff_die_w * eff_die_h) / (math.pi * usable_radius**2) * 100\n",
    "\n",
    "# filtered grid-dimensions & parity\n",
    "num_cols    = len({d['i'] for d in dies})\n",
    "num_rows    = len({d['j'] for d in dies})\n",
    "orient_cols = 'even' if num_cols % 2 == 0 else 'odd'\n",
    "orient_rows = 'even' if num_rows % 2 == 0 else 'odd'\n",
    "\n",
    "print(f\"Total positions:  {total_positions}\")\n",
    "print(f\"Deliverable dies: {deliverable}\")\n",
    "print(f\"Utilization:      {utilization:.1f}%\")"
   ]
  },
  {
   "cell_type": "markdown",
   "id": "c60daed0-0465-45cc-8ba3-bb52a6e1c451",
   "metadata": {},
   "source": [
    "## 7. Plot Final"
   ]
  },
  {
   "cell_type": "code",
   "execution_count": 11,
   "id": "f25a4f96-96b9-4ba4-985b-b529ed85319d",
   "metadata": {},
   "outputs": [
    {
     "name": "stdout",
     "output_type": "stream",
     "text": [
      "Saved image to:  ruby_20250709_114313_layout.png\n",
      "Saved metrics to: ruby_20250709_114313_metrics.txt\n"
     ]
    },
    {
     "data": {
      "image/png": "[encoded data removed]",
      "text/plain": [
       "<Figure size 600x800 with 1 Axes>"
      ]
     },
     "metadata": {},
     "output_type": "display_data"
    }
   ],
   "source": [
    "import os\n",
    "import math\n",
    "import matplotlib.pyplot as plt\n",
    "import matplotlib.patches as mpatch\n",
    "from shapely.geometry import box\n",
    "from datetime import datetime\n",
    "\n",
    "def unique_filename(base, ext):\n",
    "    \"\"\"Generate a unique filename by appending a suffix if needed.\"\"\"\n",
    "    i = 0\n",
    "    while True:\n",
    "        suffix = f\"_{i}\" if i > 0 else \"\"\n",
    "        fname = f\"{base}{suffix}.{ext}\"\n",
    "        if not os.path.exists(fname):\n",
    "            return fname\n",
    "        i += 1\n",
    "\n",
    "# Recompute radii\n",
    "full_radius   = wafer_diameter / 2.0\n",
    "usable_radius = full_radius - wee\n",
    "\n",
    "# Compute origin and pitch for the die-grid\n",
    "origin_x = -usable_radius + eff_die_w/2 + best_x\n",
    "origin_y = -usable_radius + eff_die_h/2 + best_y\n",
    "pitch_x  = step_x\n",
    "pitch_y  = step_y\n",
    "\n",
    "# ecompute summary metrics\n",
    "total_positions = len(dies)\n",
    "deliverable     = total_positions - test_die_count\n",
    "utilization     = deliverable * (eff_die_w * eff_die_h) / (math.pi * usable_radius**2) * 100\n",
    "\n",
    "# Prepare metrics text\n",
    "metrics_txt = [\n",
    "    \"Inputs:\",\n",
    "    f\"  Die w/h:          {die_w}/{die_h} mm\",\n",
    "    f\"  Trench:           {trench} mm\",\n",
    "    f\"  Scan (C×R):       {scan_cols}×{scan_rows}\",\n",
    "    f\"  Test pos:         {test_positions}\",\n",
    "    \"\",\n",
    "    \"Outputs:\",\n",
    "    f\"  Total dies:       {total_positions}\",\n",
    "    f\"  Deliverable:      {deliverable}\",\n",
    "    f\"  Utilization:      {utilization:.1f}%\",\n",
    "    f\"  Test dies:        {test_die_count}\",\n",
    "    f\"  Edge/Inside:      {edge_dies}/{inside_dies}\",\n",
    "    f\"  Offsets:          {best_x:.2f}x{best_y:.2f} mm\",\n",
    "    f\"  Cols/Rows:        {scan_num_cols}/{scan_num_rows} ({orientation_cols}/{orientation_rows})\"\n",
    "]\n",
    "\n",
    "# Create figure\n",
    "fig, ax = plt.subplots(figsize=(6, 8), constrained_layout=True)\n",
    "\n",
    "# Draw wafer and WEE\n",
    "ax.add_patch(plt.Circle((0,0), full_radius,    fill=False, edgecolor='black', linewidth=1,))\n",
    "ax.add_patch(plt.Circle((0,0), usable_radius,  fill=False, edgecolor='magenta', linestyle='--', linewidth=2))\n",
    "\n",
    "# Plot dies & test‐dies\n",
    "for d in dies:\n",
    "    rect = box(d['x']-eff_die_w/2, d['y']-eff_die_h/2, d['x']+eff_die_w/2, d['y']+eff_die_h/2)\n",
    "    xr, yr = rect.exterior.xy\n",
    "    ax.fill(xr, yr, facecolor=('yellow' if d.get('is_test') else 'C0'), edgecolor='white', linewidth=0.5)\n",
    "\n",
    "# Draw wafer center cross\n",
    "ax.plot(0, 0, marker='+', color='red', markersize=12, markeredgewidth=2)\n",
    "\n",
    "# Draw full‐cell scan boundaries in high‐contrast red\n",
    "max_sx = max(d['sx'] for d in dies)\n",
    "max_sy = max(d['sy'] for d in dies)\n",
    "for sx in range(max_sx + 1):\n",
    "    for sy in range(max_sy + 1):\n",
    "        x0c = origin_x + sx * scan_cols * pitch_x\n",
    "        y0c = origin_y + sy * scan_rows * pitch_y\n",
    "        x0  = x0c - eff_die_w/2\n",
    "        y0  = y0c - eff_die_h/2\n",
    "        w   = scan_cols * pitch_x\n",
    "        h   = scan_rows * pitch_y\n",
    "        ax.add_patch(mpatch.Rectangle(\n",
    "            (x0, y0), w, h,\n",
    "            fill=False, edgecolor='red', linewidth=2, alpha=0.8\n",
    "        ))\n",
    "\n",
    "# Add metrics & inputs box below wafer\n",
    "ax.text(\n",
    "    0.5, -0.15,\n",
    "    \"\\n\".join(metrics_txt),\n",
    "    transform=ax.transAxes,\n",
    "    ha='center', va='top',\n",
    "    fontsize=9,\n",
    "    bbox=dict(boxstyle='round,pad=0.3', facecolor='white', edgecolor='black')\n",
    ")\n",
    "\n",
    "# Final formatting\n",
    "ax.set_aspect('equal')\n",
    "ax.set_xlim(-full_radius * 1.05, full_radius * 1.05)\n",
    "ax.set_ylim(-full_radius * 1.2, full_radius * 1.05)\n",
    "ax.axis('off')\n",
    "# ax.legend(loc='upper right')\n",
    "ax.set_title(label=f\"Project Name: {project_name}\")\n",
    "\n",
    "# Save image and metrics only\n",
    "stamp      = datetime.now().strftime(\"%Y%m%d_%H%M%S\")\n",
    "base       = f\"{project_name}_{stamp}\"\n",
    "img_fname  = unique_filename(f\"{base}_layout\", \"png\")\n",
    "txt_fname  = unique_filename(f\"{base}_metrics\", \"txt\")\n",
    "\n",
    "fig.savefig(img_fname, dpi=150, bbox_inches='tight')\n",
    "with open(txt_fname, 'w') as f:\n",
    "    f.write(\"\\n\".join(metrics_txt))\n",
    "\n",
    "print(f\"Saved image to:  {img_fname}\")\n",
    "print(f\"Saved metrics to: {txt_fname}\")\n",
    "\n",
    "plt.show()"
   ]
  }
 ],
 "metadata": {
  "kernelspec": {
   "display_name": "Python (wafer)",
   "language": "python",
   "name": "wafer"
  },
  "language_info": {
   "codemirror_mode": {
    "name": "ipython",
    "version": 3
   },
   "file_extension": ".py",
   "mimetype": "text/x-python",
   "name": "python",
   "nbconvert_exporter": "python",
   "pygments_lexer": "ipython3",
   "version": "3.10.16"
  }
 },
 "nbformat": 4,
 "nbformat_minor": 5
}
